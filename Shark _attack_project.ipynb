{
 "cells": [
  {
   "cell_type": "code",
   "execution_count": 3,
   "id": "ff86a3af",
   "metadata": {
    "ExecuteTime": {
     "end_time": "2021-11-02T20:51:20.620780Z",
     "start_time": "2021-11-02T20:51:13.337886Z"
    }
   },
   "outputs": [],
   "source": [
    "import os\n",
    "import pandas as pd\n",
    "import numpy as np"
   ]
  },
  {
   "cell_type": "code",
   "execution_count": 4,
   "id": "f2f07620",
   "metadata": {
    "ExecuteTime": {
     "end_time": "2021-11-02T20:51:21.185584Z",
     "start_time": "2021-11-02T20:51:20.655688Z"
    }
   },
   "outputs": [],
   "source": [
    "shark_data = pd.read_csv(\"attacks.csv\")"
   ]
  },
  {
   "cell_type": "code",
   "execution_count": 5,
   "id": "d34baaaa",
   "metadata": {
    "ExecuteTime": {
     "end_time": "2021-11-02T20:51:21.517270Z",
     "start_time": "2021-11-02T20:51:21.441244Z"
    }
   },
   "outputs": [
    {
     "data": {
      "text/html": [
       "<div>\n",
       "<style scoped>\n",
       "    .dataframe tbody tr th:only-of-type {\n",
       "        vertical-align: middle;\n",
       "    }\n",
       "\n",
       "    .dataframe tbody tr th {\n",
       "        vertical-align: top;\n",
       "    }\n",
       "\n",
       "    .dataframe thead th {\n",
       "        text-align: right;\n",
       "    }\n",
       "</style>\n",
       "<table border=\"1\" class=\"dataframe\">\n",
       "  <thead>\n",
       "    <tr style=\"text-align: right;\">\n",
       "      <th></th>\n",
       "      <th>Case Number</th>\n",
       "      <th>Date</th>\n",
       "      <th>Year</th>\n",
       "      <th>Type</th>\n",
       "      <th>Country</th>\n",
       "      <th>Area</th>\n",
       "      <th>Location</th>\n",
       "      <th>Activity</th>\n",
       "      <th>Name</th>\n",
       "      <th>Sex</th>\n",
       "      <th>...</th>\n",
       "      <th>Species</th>\n",
       "      <th>Investigator or Source</th>\n",
       "      <th>pdf</th>\n",
       "      <th>href formula</th>\n",
       "      <th>href</th>\n",
       "      <th>Case Number.1</th>\n",
       "      <th>Case Number.2</th>\n",
       "      <th>original order</th>\n",
       "      <th>Unnamed: 22</th>\n",
       "      <th>Unnamed: 23</th>\n",
       "    </tr>\n",
       "  </thead>\n",
       "  <tbody>\n",
       "    <tr>\n",
       "      <th>0</th>\n",
       "      <td>2018.06.25</td>\n",
       "      <td>25-Jun-2018</td>\n",
       "      <td>2018.0</td>\n",
       "      <td>Boating</td>\n",
       "      <td>USA</td>\n",
       "      <td>California</td>\n",
       "      <td>Oceanside, San Diego County</td>\n",
       "      <td>Paddling</td>\n",
       "      <td>Julie Wolfe</td>\n",
       "      <td>F</td>\n",
       "      <td>...</td>\n",
       "      <td>White shark</td>\n",
       "      <td>R. Collier, GSAF</td>\n",
       "      <td>2018.06.25-Wolfe.pdf</td>\n",
       "      <td>http://sharkattackfile.net/spreadsheets/pdf_di...</td>\n",
       "      <td>http://sharkattackfile.net/spreadsheets/pdf_di...</td>\n",
       "      <td>2018.06.25</td>\n",
       "      <td>2018.06.25</td>\n",
       "      <td>6303.0</td>\n",
       "      <td>NaN</td>\n",
       "      <td>NaN</td>\n",
       "    </tr>\n",
       "    <tr>\n",
       "      <th>1</th>\n",
       "      <td>2018.06.18</td>\n",
       "      <td>18-Jun-2018</td>\n",
       "      <td>2018.0</td>\n",
       "      <td>Unprovoked</td>\n",
       "      <td>USA</td>\n",
       "      <td>Georgia</td>\n",
       "      <td>St. Simon Island, Glynn County</td>\n",
       "      <td>Standing</td>\n",
       "      <td>Adyson�McNeely</td>\n",
       "      <td>F</td>\n",
       "      <td>...</td>\n",
       "      <td>NaN</td>\n",
       "      <td>K.McMurray, TrackingSharks.com</td>\n",
       "      <td>2018.06.18-McNeely.pdf</td>\n",
       "      <td>http://sharkattackfile.net/spreadsheets/pdf_di...</td>\n",
       "      <td>http://sharkattackfile.net/spreadsheets/pdf_di...</td>\n",
       "      <td>2018.06.18</td>\n",
       "      <td>2018.06.18</td>\n",
       "      <td>6302.0</td>\n",
       "      <td>NaN</td>\n",
       "      <td>NaN</td>\n",
       "    </tr>\n",
       "    <tr>\n",
       "      <th>2</th>\n",
       "      <td>2018.06.09</td>\n",
       "      <td>09-Jun-2018</td>\n",
       "      <td>2018.0</td>\n",
       "      <td>Invalid</td>\n",
       "      <td>USA</td>\n",
       "      <td>Hawaii</td>\n",
       "      <td>Habush, Oahu</td>\n",
       "      <td>Surfing</td>\n",
       "      <td>John Denges</td>\n",
       "      <td>M</td>\n",
       "      <td>...</td>\n",
       "      <td>NaN</td>\n",
       "      <td>K.McMurray, TrackingSharks.com</td>\n",
       "      <td>2018.06.09-Denges.pdf</td>\n",
       "      <td>http://sharkattackfile.net/spreadsheets/pdf_di...</td>\n",
       "      <td>http://sharkattackfile.net/spreadsheets/pdf_di...</td>\n",
       "      <td>2018.06.09</td>\n",
       "      <td>2018.06.09</td>\n",
       "      <td>6301.0</td>\n",
       "      <td>NaN</td>\n",
       "      <td>NaN</td>\n",
       "    </tr>\n",
       "    <tr>\n",
       "      <th>3</th>\n",
       "      <td>2018.06.08</td>\n",
       "      <td>08-Jun-2018</td>\n",
       "      <td>2018.0</td>\n",
       "      <td>Unprovoked</td>\n",
       "      <td>AUSTRALIA</td>\n",
       "      <td>New South Wales</td>\n",
       "      <td>Arrawarra Headland</td>\n",
       "      <td>Surfing</td>\n",
       "      <td>male</td>\n",
       "      <td>M</td>\n",
       "      <td>...</td>\n",
       "      <td>2 m shark</td>\n",
       "      <td>B. Myatt, GSAF</td>\n",
       "      <td>2018.06.08-Arrawarra.pdf</td>\n",
       "      <td>http://sharkattackfile.net/spreadsheets/pdf_di...</td>\n",
       "      <td>http://sharkattackfile.net/spreadsheets/pdf_di...</td>\n",
       "      <td>2018.06.08</td>\n",
       "      <td>2018.06.08</td>\n",
       "      <td>6300.0</td>\n",
       "      <td>NaN</td>\n",
       "      <td>NaN</td>\n",
       "    </tr>\n",
       "    <tr>\n",
       "      <th>4</th>\n",
       "      <td>2018.06.04</td>\n",
       "      <td>04-Jun-2018</td>\n",
       "      <td>2018.0</td>\n",
       "      <td>Provoked</td>\n",
       "      <td>MEXICO</td>\n",
       "      <td>Colima</td>\n",
       "      <td>La Ticla</td>\n",
       "      <td>Free diving</td>\n",
       "      <td>Gustavo Ramos</td>\n",
       "      <td>M</td>\n",
       "      <td>...</td>\n",
       "      <td>Tiger shark, 3m</td>\n",
       "      <td>A .Kipper</td>\n",
       "      <td>2018.06.04-Ramos.pdf</td>\n",
       "      <td>http://sharkattackfile.net/spreadsheets/pdf_di...</td>\n",
       "      <td>http://sharkattackfile.net/spreadsheets/pdf_di...</td>\n",
       "      <td>2018.06.04</td>\n",
       "      <td>2018.06.04</td>\n",
       "      <td>6299.0</td>\n",
       "      <td>NaN</td>\n",
       "      <td>NaN</td>\n",
       "    </tr>\n",
       "  </tbody>\n",
       "</table>\n",
       "<p>5 rows × 24 columns</p>\n",
       "</div>"
      ],
      "text/plain": [
       "  Case Number         Date    Year        Type    Country             Area  \\\n",
       "0  2018.06.25  25-Jun-2018  2018.0     Boating        USA       California   \n",
       "1  2018.06.18  18-Jun-2018  2018.0  Unprovoked        USA          Georgia   \n",
       "2  2018.06.09  09-Jun-2018  2018.0     Invalid        USA           Hawaii   \n",
       "3  2018.06.08  08-Jun-2018  2018.0  Unprovoked  AUSTRALIA  New South Wales   \n",
       "4  2018.06.04  04-Jun-2018  2018.0    Provoked     MEXICO           Colima   \n",
       "\n",
       "                         Location     Activity             Name Sex   ...  \\\n",
       "0     Oceanside, San Diego County     Paddling      Julie Wolfe    F  ...   \n",
       "1  St. Simon Island, Glynn County     Standing  Adyson�McNeely     F  ...   \n",
       "2                    Habush, Oahu      Surfing      John Denges    M  ...   \n",
       "3              Arrawarra Headland      Surfing             male    M  ...   \n",
       "4                        La Ticla  Free diving   Gustavo Ramos     M  ...   \n",
       "\n",
       "          Species           Investigator or Source                       pdf  \\\n",
       "0      White shark                R. Collier, GSAF      2018.06.25-Wolfe.pdf   \n",
       "1              NaN  K.McMurray, TrackingSharks.com    2018.06.18-McNeely.pdf   \n",
       "2              NaN  K.McMurray, TrackingSharks.com     2018.06.09-Denges.pdf   \n",
       "3        2 m shark                  B. Myatt, GSAF  2018.06.08-Arrawarra.pdf   \n",
       "4  Tiger shark, 3m                       A .Kipper      2018.06.04-Ramos.pdf   \n",
       "\n",
       "                                        href formula  \\\n",
       "0  http://sharkattackfile.net/spreadsheets/pdf_di...   \n",
       "1  http://sharkattackfile.net/spreadsheets/pdf_di...   \n",
       "2  http://sharkattackfile.net/spreadsheets/pdf_di...   \n",
       "3  http://sharkattackfile.net/spreadsheets/pdf_di...   \n",
       "4  http://sharkattackfile.net/spreadsheets/pdf_di...   \n",
       "\n",
       "                                                href Case Number.1  \\\n",
       "0  http://sharkattackfile.net/spreadsheets/pdf_di...    2018.06.25   \n",
       "1  http://sharkattackfile.net/spreadsheets/pdf_di...    2018.06.18   \n",
       "2  http://sharkattackfile.net/spreadsheets/pdf_di...    2018.06.09   \n",
       "3  http://sharkattackfile.net/spreadsheets/pdf_di...    2018.06.08   \n",
       "4  http://sharkattackfile.net/spreadsheets/pdf_di...    2018.06.04   \n",
       "\n",
       "  Case Number.2 original order Unnamed: 22 Unnamed: 23  \n",
       "0    2018.06.25         6303.0         NaN         NaN  \n",
       "1    2018.06.18         6302.0         NaN         NaN  \n",
       "2    2018.06.09         6301.0         NaN         NaN  \n",
       "3    2018.06.08         6300.0         NaN         NaN  \n",
       "4    2018.06.04         6299.0         NaN         NaN  \n",
       "\n",
       "[5 rows x 24 columns]"
      ]
     },
     "execution_count": 5,
     "metadata": {},
     "output_type": "execute_result"
    }
   ],
   "source": [
    "shark_data.head()"
   ]
  },
  {
   "cell_type": "code",
   "execution_count": 6,
   "id": "64d79d82",
   "metadata": {
    "ExecuteTime": {
     "end_time": "2021-11-02T20:51:25.556655Z",
     "start_time": "2021-11-02T20:51:25.364869Z"
    }
   },
   "outputs": [
    {
     "name": "stdout",
     "output_type": "stream",
     "text": [
      "<class 'pandas.core.frame.DataFrame'>\n",
      "RangeIndex: 25723 entries, 0 to 25722\n",
      "Data columns (total 24 columns):\n",
      " #   Column                  Non-Null Count  Dtype  \n",
      "---  ------                  --------------  -----  \n",
      " 0   Case Number             8702 non-null   object \n",
      " 1   Date                    6302 non-null   object \n",
      " 2   Year                    6300 non-null   float64\n",
      " 3   Type                    6298 non-null   object \n",
      " 4   Country                 6252 non-null   object \n",
      " 5   Area                    5847 non-null   object \n",
      " 6   Location                5762 non-null   object \n",
      " 7   Activity                5758 non-null   object \n",
      " 8   Name                    6092 non-null   object \n",
      " 9   Sex                     5737 non-null   object \n",
      " 10  Age                     3471 non-null   object \n",
      " 11  Injury                  6274 non-null   object \n",
      " 12  Fatal (Y/N)             5763 non-null   object \n",
      " 13  Time                    2948 non-null   object \n",
      " 14  Species                 3464 non-null   object \n",
      " 15  Investigator or Source  6285 non-null   object \n",
      " 16  pdf                     6302 non-null   object \n",
      " 17  href formula            6301 non-null   object \n",
      " 18  href                    6302 non-null   object \n",
      " 19  Case Number.1           6302 non-null   object \n",
      " 20  Case Number.2           6302 non-null   object \n",
      " 21  original order          6309 non-null   float64\n",
      " 22  Unnamed: 22             1 non-null      object \n",
      " 23  Unnamed: 23             2 non-null      object \n",
      "dtypes: float64(2), object(22)\n",
      "memory usage: 4.7+ MB\n"
     ]
    }
   ],
   "source": [
    "shark_data.info()"
   ]
  },
  {
   "cell_type": "code",
   "execution_count": 9,
   "id": "7dc4fa70",
   "metadata": {
    "ExecuteTime": {
     "end_time": "2021-11-02T20:52:09.700403Z",
     "start_time": "2021-11-02T20:52:09.584426Z"
    }
   },
   "outputs": [],
   "source": [
    "shark_data.drop('Name', axis=1)\n",
    "cshark_data = shark_data.drop(['Name', 'original order', 'Investigator or Source', 'pdf', 'href', 'Case Number.1','Case Number.2'], axis=1)"
   ]
  },
  {
   "cell_type": "code",
   "execution_count": 32,
   "id": "cb6f724c",
   "metadata": {
    "ExecuteTime": {
     "end_time": "2021-11-02T22:02:53.887900Z",
     "start_time": "2021-11-02T22:02:53.879922Z"
    }
   },
   "outputs": [],
   "source": [
    "shark_columns = list(cshark_data.columns)\n",
    "shark_clean_col = [col.lower().strip().replace(' ','_') for col in shark_columns]"
   ]
  },
  {
   "cell_type": "code",
   "execution_count": 34,
   "id": "dc16b02f",
   "metadata": {
    "ExecuteTime": {
     "end_time": "2021-11-02T22:03:36.996829Z",
     "start_time": "2021-11-02T22:03:36.966908Z"
    }
   },
   "outputs": [
    {
     "data": {
      "text/html": [
       "<div>\n",
       "<style scoped>\n",
       "    .dataframe tbody tr th:only-of-type {\n",
       "        vertical-align: middle;\n",
       "    }\n",
       "\n",
       "    .dataframe tbody tr th {\n",
       "        vertical-align: top;\n",
       "    }\n",
       "\n",
       "    .dataframe thead th {\n",
       "        text-align: right;\n",
       "    }\n",
       "</style>\n",
       "<table border=\"1\" class=\"dataframe\">\n",
       "  <thead>\n",
       "    <tr style=\"text-align: right;\">\n",
       "      <th></th>\n",
       "      <th>case_number</th>\n",
       "      <th>date</th>\n",
       "      <th>year</th>\n",
       "      <th>type</th>\n",
       "      <th>country</th>\n",
       "      <th>area</th>\n",
       "      <th>location</th>\n",
       "      <th>activity</th>\n",
       "      <th>sex</th>\n",
       "      <th>age</th>\n",
       "      <th>injury</th>\n",
       "      <th>fatal_(y/n)</th>\n",
       "      <th>time</th>\n",
       "      <th>species</th>\n",
       "      <th>href_formula</th>\n",
       "      <th>unnamed:_22</th>\n",
       "      <th>unnamed:_23</th>\n",
       "    </tr>\n",
       "  </thead>\n",
       "  <tbody>\n",
       "    <tr>\n",
       "      <th>0</th>\n",
       "      <td>2018.06.25</td>\n",
       "      <td>25-Jun-2018</td>\n",
       "      <td>2018.0</td>\n",
       "      <td>Boating</td>\n",
       "      <td>USA</td>\n",
       "      <td>California</td>\n",
       "      <td>Oceanside, San Diego County</td>\n",
       "      <td>Paddling</td>\n",
       "      <td>F</td>\n",
       "      <td>57</td>\n",
       "      <td>No injury to occupant, outrigger canoe and pad...</td>\n",
       "      <td>N</td>\n",
       "      <td>18h00</td>\n",
       "      <td>White shark</td>\n",
       "      <td>http://sharkattackfile.net/spreadsheets/pdf_di...</td>\n",
       "      <td>NaN</td>\n",
       "      <td>NaN</td>\n",
       "    </tr>\n",
       "    <tr>\n",
       "      <th>1</th>\n",
       "      <td>2018.06.18</td>\n",
       "      <td>18-Jun-2018</td>\n",
       "      <td>2018.0</td>\n",
       "      <td>Unprovoked</td>\n",
       "      <td>USA</td>\n",
       "      <td>Georgia</td>\n",
       "      <td>St. Simon Island, Glynn County</td>\n",
       "      <td>Standing</td>\n",
       "      <td>F</td>\n",
       "      <td>11</td>\n",
       "      <td>Minor injury to left thigh</td>\n",
       "      <td>N</td>\n",
       "      <td>14h00  -15h00</td>\n",
       "      <td>NaN</td>\n",
       "      <td>http://sharkattackfile.net/spreadsheets/pdf_di...</td>\n",
       "      <td>NaN</td>\n",
       "      <td>NaN</td>\n",
       "    </tr>\n",
       "    <tr>\n",
       "      <th>2</th>\n",
       "      <td>2018.06.09</td>\n",
       "      <td>09-Jun-2018</td>\n",
       "      <td>2018.0</td>\n",
       "      <td>Invalid</td>\n",
       "      <td>USA</td>\n",
       "      <td>Hawaii</td>\n",
       "      <td>Habush, Oahu</td>\n",
       "      <td>Surfing</td>\n",
       "      <td>M</td>\n",
       "      <td>48</td>\n",
       "      <td>Injury to left lower leg from surfboard skeg</td>\n",
       "      <td>N</td>\n",
       "      <td>07h45</td>\n",
       "      <td>NaN</td>\n",
       "      <td>http://sharkattackfile.net/spreadsheets/pdf_di...</td>\n",
       "      <td>NaN</td>\n",
       "      <td>NaN</td>\n",
       "    </tr>\n",
       "    <tr>\n",
       "      <th>3</th>\n",
       "      <td>2018.06.08</td>\n",
       "      <td>08-Jun-2018</td>\n",
       "      <td>2018.0</td>\n",
       "      <td>Unprovoked</td>\n",
       "      <td>AUSTRALIA</td>\n",
       "      <td>New South Wales</td>\n",
       "      <td>Arrawarra Headland</td>\n",
       "      <td>Surfing</td>\n",
       "      <td>M</td>\n",
       "      <td>NaN</td>\n",
       "      <td>Minor injury to lower leg</td>\n",
       "      <td>N</td>\n",
       "      <td>NaN</td>\n",
       "      <td>2 m shark</td>\n",
       "      <td>http://sharkattackfile.net/spreadsheets/pdf_di...</td>\n",
       "      <td>NaN</td>\n",
       "      <td>NaN</td>\n",
       "    </tr>\n",
       "    <tr>\n",
       "      <th>4</th>\n",
       "      <td>2018.06.04</td>\n",
       "      <td>04-Jun-2018</td>\n",
       "      <td>2018.0</td>\n",
       "      <td>Provoked</td>\n",
       "      <td>MEXICO</td>\n",
       "      <td>Colima</td>\n",
       "      <td>La Ticla</td>\n",
       "      <td>Free diving</td>\n",
       "      <td>M</td>\n",
       "      <td>NaN</td>\n",
       "      <td>Lacerations to leg &amp; hand shark PROVOKED INCIDENT</td>\n",
       "      <td>N</td>\n",
       "      <td>NaN</td>\n",
       "      <td>Tiger shark, 3m</td>\n",
       "      <td>http://sharkattackfile.net/spreadsheets/pdf_di...</td>\n",
       "      <td>NaN</td>\n",
       "      <td>NaN</td>\n",
       "    </tr>\n",
       "    <tr>\n",
       "      <th>...</th>\n",
       "      <td>...</td>\n",
       "      <td>...</td>\n",
       "      <td>...</td>\n",
       "      <td>...</td>\n",
       "      <td>...</td>\n",
       "      <td>...</td>\n",
       "      <td>...</td>\n",
       "      <td>...</td>\n",
       "      <td>...</td>\n",
       "      <td>...</td>\n",
       "      <td>...</td>\n",
       "      <td>...</td>\n",
       "      <td>...</td>\n",
       "      <td>...</td>\n",
       "      <td>...</td>\n",
       "      <td>...</td>\n",
       "      <td>...</td>\n",
       "    </tr>\n",
       "    <tr>\n",
       "      <th>25718</th>\n",
       "      <td>NaN</td>\n",
       "      <td>NaN</td>\n",
       "      <td>NaN</td>\n",
       "      <td>NaN</td>\n",
       "      <td>NaN</td>\n",
       "      <td>NaN</td>\n",
       "      <td>NaN</td>\n",
       "      <td>NaN</td>\n",
       "      <td>NaN</td>\n",
       "      <td>NaN</td>\n",
       "      <td>NaN</td>\n",
       "      <td>NaN</td>\n",
       "      <td>NaN</td>\n",
       "      <td>NaN</td>\n",
       "      <td>NaN</td>\n",
       "      <td>NaN</td>\n",
       "      <td>NaN</td>\n",
       "    </tr>\n",
       "    <tr>\n",
       "      <th>25719</th>\n",
       "      <td>NaN</td>\n",
       "      <td>NaN</td>\n",
       "      <td>NaN</td>\n",
       "      <td>NaN</td>\n",
       "      <td>NaN</td>\n",
       "      <td>NaN</td>\n",
       "      <td>NaN</td>\n",
       "      <td>NaN</td>\n",
       "      <td>NaN</td>\n",
       "      <td>NaN</td>\n",
       "      <td>NaN</td>\n",
       "      <td>NaN</td>\n",
       "      <td>NaN</td>\n",
       "      <td>NaN</td>\n",
       "      <td>NaN</td>\n",
       "      <td>NaN</td>\n",
       "      <td>NaN</td>\n",
       "    </tr>\n",
       "    <tr>\n",
       "      <th>25720</th>\n",
       "      <td>NaN</td>\n",
       "      <td>NaN</td>\n",
       "      <td>NaN</td>\n",
       "      <td>NaN</td>\n",
       "      <td>NaN</td>\n",
       "      <td>NaN</td>\n",
       "      <td>NaN</td>\n",
       "      <td>NaN</td>\n",
       "      <td>NaN</td>\n",
       "      <td>NaN</td>\n",
       "      <td>NaN</td>\n",
       "      <td>NaN</td>\n",
       "      <td>NaN</td>\n",
       "      <td>NaN</td>\n",
       "      <td>NaN</td>\n",
       "      <td>NaN</td>\n",
       "      <td>NaN</td>\n",
       "    </tr>\n",
       "    <tr>\n",
       "      <th>25721</th>\n",
       "      <td>NaN</td>\n",
       "      <td>NaN</td>\n",
       "      <td>NaN</td>\n",
       "      <td>NaN</td>\n",
       "      <td>NaN</td>\n",
       "      <td>NaN</td>\n",
       "      <td>NaN</td>\n",
       "      <td>NaN</td>\n",
       "      <td>NaN</td>\n",
       "      <td>NaN</td>\n",
       "      <td>NaN</td>\n",
       "      <td>NaN</td>\n",
       "      <td>NaN</td>\n",
       "      <td>NaN</td>\n",
       "      <td>NaN</td>\n",
       "      <td>NaN</td>\n",
       "      <td>NaN</td>\n",
       "    </tr>\n",
       "    <tr>\n",
       "      <th>25722</th>\n",
       "      <td>xx</td>\n",
       "      <td>NaN</td>\n",
       "      <td>NaN</td>\n",
       "      <td>NaN</td>\n",
       "      <td>NaN</td>\n",
       "      <td>NaN</td>\n",
       "      <td>NaN</td>\n",
       "      <td>NaN</td>\n",
       "      <td>NaN</td>\n",
       "      <td>NaN</td>\n",
       "      <td>NaN</td>\n",
       "      <td>NaN</td>\n",
       "      <td>NaN</td>\n",
       "      <td>NaN</td>\n",
       "      <td>NaN</td>\n",
       "      <td>NaN</td>\n",
       "      <td>NaN</td>\n",
       "    </tr>\n",
       "  </tbody>\n",
       "</table>\n",
       "<p>25723 rows × 17 columns</p>\n",
       "</div>"
      ],
      "text/plain": [
       "      case_number         date    year        type    country  \\\n",
       "0      2018.06.25  25-Jun-2018  2018.0     Boating        USA   \n",
       "1      2018.06.18  18-Jun-2018  2018.0  Unprovoked        USA   \n",
       "2      2018.06.09  09-Jun-2018  2018.0     Invalid        USA   \n",
       "3      2018.06.08  08-Jun-2018  2018.0  Unprovoked  AUSTRALIA   \n",
       "4      2018.06.04  04-Jun-2018  2018.0    Provoked     MEXICO   \n",
       "...           ...          ...     ...         ...        ...   \n",
       "25718         NaN          NaN     NaN         NaN        NaN   \n",
       "25719         NaN          NaN     NaN         NaN        NaN   \n",
       "25720         NaN          NaN     NaN         NaN        NaN   \n",
       "25721         NaN          NaN     NaN         NaN        NaN   \n",
       "25722          xx          NaN     NaN         NaN        NaN   \n",
       "\n",
       "                  area                        location     activity  sex  age  \\\n",
       "0           California     Oceanside, San Diego County     Paddling    F   57   \n",
       "1              Georgia  St. Simon Island, Glynn County     Standing    F   11   \n",
       "2               Hawaii                    Habush, Oahu      Surfing    M   48   \n",
       "3      New South Wales              Arrawarra Headland      Surfing    M  NaN   \n",
       "4               Colima                        La Ticla  Free diving    M  NaN   \n",
       "...                ...                             ...          ...  ...  ...   \n",
       "25718              NaN                             NaN          NaN  NaN  NaN   \n",
       "25719              NaN                             NaN          NaN  NaN  NaN   \n",
       "25720              NaN                             NaN          NaN  NaN  NaN   \n",
       "25721              NaN                             NaN          NaN  NaN  NaN   \n",
       "25722              NaN                             NaN          NaN  NaN  NaN   \n",
       "\n",
       "                                                  injury fatal_(y/n)  \\\n",
       "0      No injury to occupant, outrigger canoe and pad...           N   \n",
       "1                             Minor injury to left thigh           N   \n",
       "2           Injury to left lower leg from surfboard skeg           N   \n",
       "3                              Minor injury to lower leg           N   \n",
       "4      Lacerations to leg & hand shark PROVOKED INCIDENT           N   \n",
       "...                                                  ...         ...   \n",
       "25718                                                NaN         NaN   \n",
       "25719                                                NaN         NaN   \n",
       "25720                                                NaN         NaN   \n",
       "25721                                                NaN         NaN   \n",
       "25722                                                NaN         NaN   \n",
       "\n",
       "                time          species  \\\n",
       "0              18h00      White shark   \n",
       "1      14h00  -15h00              NaN   \n",
       "2              07h45              NaN   \n",
       "3                NaN        2 m shark   \n",
       "4                NaN  Tiger shark, 3m   \n",
       "...              ...              ...   \n",
       "25718            NaN              NaN   \n",
       "25719            NaN              NaN   \n",
       "25720            NaN              NaN   \n",
       "25721            NaN              NaN   \n",
       "25722            NaN              NaN   \n",
       "\n",
       "                                            href_formula unnamed:_22  \\\n",
       "0      http://sharkattackfile.net/spreadsheets/pdf_di...         NaN   \n",
       "1      http://sharkattackfile.net/spreadsheets/pdf_di...         NaN   \n",
       "2      http://sharkattackfile.net/spreadsheets/pdf_di...         NaN   \n",
       "3      http://sharkattackfile.net/spreadsheets/pdf_di...         NaN   \n",
       "4      http://sharkattackfile.net/spreadsheets/pdf_di...         NaN   \n",
       "...                                                  ...         ...   \n",
       "25718                                                NaN         NaN   \n",
       "25719                                                NaN         NaN   \n",
       "25720                                                NaN         NaN   \n",
       "25721                                                NaN         NaN   \n",
       "25722                                                NaN         NaN   \n",
       "\n",
       "      unnamed:_23  \n",
       "0             NaN  \n",
       "1             NaN  \n",
       "2             NaN  \n",
       "3             NaN  \n",
       "4             NaN  \n",
       "...           ...  \n",
       "25718         NaN  \n",
       "25719         NaN  \n",
       "25720         NaN  \n",
       "25721         NaN  \n",
       "25722         NaN  \n",
       "\n",
       "[25723 rows x 17 columns]"
      ]
     },
     "execution_count": 34,
     "metadata": {},
     "output_type": "execute_result"
    }
   ],
   "source": [
    "cshark_data.columns = shark_clean_col\n",
    "cshark_data"
   ]
  },
  {
   "cell_type": "code",
   "execution_count": 11,
   "id": "a8fccf3d",
   "metadata": {
    "ExecuteTime": {
     "end_time": "2021-11-02T20:52:15.804691Z",
     "start_time": "2021-11-02T20:52:15.782750Z"
    }
   },
   "outputs": [],
   "source": []
  },
  {
   "cell_type": "code",
   "execution_count": 35,
   "id": "863de27d",
   "metadata": {
    "ExecuteTime": {
     "end_time": "2021-11-02T22:04:48.868257Z",
     "start_time": "2021-11-02T22:04:48.808419Z"
    }
   },
   "outputs": [
    {
     "name": "stdout",
     "output_type": "stream",
     "text": [
      "<class 'pandas.core.frame.DataFrame'>\n",
      "RangeIndex: 25723 entries, 0 to 25722\n",
      "Data columns (total 17 columns):\n",
      " #   Column        Non-Null Count  Dtype \n",
      "---  ------        --------------  ----- \n",
      " 0   case_number   8702 non-null   object\n",
      " 1   date          6302 non-null   object\n",
      " 2   year          6300 non-null   object\n",
      " 3   type          6298 non-null   object\n",
      " 4   country       6252 non-null   object\n",
      " 5   area          5847 non-null   object\n",
      " 6   location      5762 non-null   object\n",
      " 7   activity      5758 non-null   object\n",
      " 8   sex           5737 non-null   object\n",
      " 9   age           3471 non-null   object\n",
      " 10  injury        6274 non-null   object\n",
      " 11  fatal_(y/n)   5763 non-null   object\n",
      " 12  time          2948 non-null   object\n",
      " 13  species       3464 non-null   object\n",
      " 14  href_formula  6301 non-null   object\n",
      " 15  unnamed:_22   1 non-null      object\n",
      " 16  unnamed:_23   2 non-null      object\n",
      "dtypes: object(17)\n",
      "memory usage: 3.3+ MB\n"
     ]
    }
   ],
   "source": [
    "cshark_data.info()"
   ]
  },
  {
   "cell_type": "code",
   "execution_count": null,
   "id": "b74ef3cf",
   "metadata": {},
   "outputs": [],
   "source": [
    "#A a maior parte nos estados unidos, surfando, homens, 17 anos, perto de 2015,\n",
    "#verificar injury pois não está coerente, a tarde, tubarões brancos."
   ]
  },
  {
   "cell_type": "code",
   "execution_count": 36,
   "id": "09f5011c",
   "metadata": {
    "ExecuteTime": {
     "end_time": "2021-11-02T22:04:56.531665Z",
     "start_time": "2021-11-02T22:04:56.423922Z"
    }
   },
   "outputs": [
    {
     "data": {
      "text/html": [
       "<div>\n",
       "<style scoped>\n",
       "    .dataframe tbody tr th:only-of-type {\n",
       "        vertical-align: middle;\n",
       "    }\n",
       "\n",
       "    .dataframe tbody tr th {\n",
       "        vertical-align: top;\n",
       "    }\n",
       "\n",
       "    .dataframe thead th {\n",
       "        text-align: right;\n",
       "    }\n",
       "</style>\n",
       "<table border=\"1\" class=\"dataframe\">\n",
       "  <thead>\n",
       "    <tr style=\"text-align: right;\">\n",
       "      <th></th>\n",
       "      <th>case_number</th>\n",
       "      <th>date</th>\n",
       "      <th>year</th>\n",
       "      <th>type</th>\n",
       "      <th>country</th>\n",
       "      <th>area</th>\n",
       "      <th>location</th>\n",
       "      <th>activity</th>\n",
       "      <th>sex</th>\n",
       "      <th>age</th>\n",
       "      <th>injury</th>\n",
       "      <th>fatal_(y/n)</th>\n",
       "      <th>time</th>\n",
       "      <th>species</th>\n",
       "      <th>href_formula</th>\n",
       "      <th>unnamed:_22</th>\n",
       "      <th>unnamed:_23</th>\n",
       "    </tr>\n",
       "  </thead>\n",
       "  <tbody>\n",
       "    <tr>\n",
       "      <th>count</th>\n",
       "      <td>8702</td>\n",
       "      <td>6302</td>\n",
       "      <td>6300.0</td>\n",
       "      <td>6298</td>\n",
       "      <td>6252</td>\n",
       "      <td>5847</td>\n",
       "      <td>5762</td>\n",
       "      <td>5758</td>\n",
       "      <td>5737</td>\n",
       "      <td>3471</td>\n",
       "      <td>6274</td>\n",
       "      <td>5763</td>\n",
       "      <td>2948</td>\n",
       "      <td>3464</td>\n",
       "      <td>6301</td>\n",
       "      <td>1</td>\n",
       "      <td>2</td>\n",
       "    </tr>\n",
       "    <tr>\n",
       "      <th>unique</th>\n",
       "      <td>6287</td>\n",
       "      <td>5433</td>\n",
       "      <td>249.0</td>\n",
       "      <td>8</td>\n",
       "      <td>212</td>\n",
       "      <td>825</td>\n",
       "      <td>4108</td>\n",
       "      <td>1532</td>\n",
       "      <td>6</td>\n",
       "      <td>157</td>\n",
       "      <td>3737</td>\n",
       "      <td>8</td>\n",
       "      <td>366</td>\n",
       "      <td>1549</td>\n",
       "      <td>6290</td>\n",
       "      <td>1</td>\n",
       "      <td>2</td>\n",
       "    </tr>\n",
       "    <tr>\n",
       "      <th>top</th>\n",
       "      <td>0</td>\n",
       "      <td>1957</td>\n",
       "      <td>2015.0</td>\n",
       "      <td>Unprovoked</td>\n",
       "      <td>USA</td>\n",
       "      <td>Florida</td>\n",
       "      <td>New Smyrna Beach, Volusia County</td>\n",
       "      <td>Surfing</td>\n",
       "      <td>M</td>\n",
       "      <td>17</td>\n",
       "      <td>FATAL</td>\n",
       "      <td>N</td>\n",
       "      <td>Afternoon</td>\n",
       "      <td>White shark</td>\n",
       "      <td>http://sharkattackfile.net/spreadsheets/pdf_di...</td>\n",
       "      <td>stopped here</td>\n",
       "      <td>change filename</td>\n",
       "    </tr>\n",
       "    <tr>\n",
       "      <th>freq</th>\n",
       "      <td>2400</td>\n",
       "      <td>11</td>\n",
       "      <td>143.0</td>\n",
       "      <td>4595</td>\n",
       "      <td>2229</td>\n",
       "      <td>1037</td>\n",
       "      <td>163</td>\n",
       "      <td>971</td>\n",
       "      <td>5094</td>\n",
       "      <td>154</td>\n",
       "      <td>802</td>\n",
       "      <td>4293</td>\n",
       "      <td>187</td>\n",
       "      <td>163</td>\n",
       "      <td>2</td>\n",
       "      <td>1</td>\n",
       "      <td>1</td>\n",
       "    </tr>\n",
       "  </tbody>\n",
       "</table>\n",
       "</div>"
      ],
      "text/plain": [
       "       case_number  date    year        type country     area  \\\n",
       "count         8702  6302  6300.0        6298    6252     5847   \n",
       "unique        6287  5433   249.0           8     212      825   \n",
       "top              0  1957  2015.0  Unprovoked     USA  Florida   \n",
       "freq          2400    11   143.0        4595    2229     1037   \n",
       "\n",
       "                                location activity   sex   age injury  \\\n",
       "count                               5762     5758  5737  3471   6274   \n",
       "unique                              4108     1532     6   157   3737   \n",
       "top     New Smyrna Beach, Volusia County  Surfing     M    17  FATAL   \n",
       "freq                                 163      971  5094   154    802   \n",
       "\n",
       "       fatal_(y/n)       time      species  \\\n",
       "count         5763       2948         3464   \n",
       "unique           8        366         1549   \n",
       "top              N  Afternoon  White shark   \n",
       "freq          4293        187          163   \n",
       "\n",
       "                                             href_formula   unnamed:_22  \\\n",
       "count                                                6301             1   \n",
       "unique                                               6290             1   \n",
       "top     http://sharkattackfile.net/spreadsheets/pdf_di...  stopped here   \n",
       "freq                                                    2             1   \n",
       "\n",
       "            unnamed:_23  \n",
       "count                 2  \n",
       "unique                2  \n",
       "top     change filename  \n",
       "freq                  1  "
      ]
     },
     "execution_count": 36,
     "metadata": {},
     "output_type": "execute_result"
    }
   ],
   "source": [
    "cshark_data.describe()"
   ]
  },
  {
   "cell_type": "code",
   "execution_count": 67,
   "id": "e82a0beb",
   "metadata": {
    "ExecuteTime": {
     "end_time": "2021-11-02T22:30:30.977269Z",
     "start_time": "2021-11-02T22:30:30.969290Z"
    },
    "scrolled": true
   },
   "outputs": [
    {
     "data": {
      "text/plain": [
       "array(['Boating', 'Unprovoked', 'Invalid', 'Provoked', 'Questionable',\n",
       "       'Sea Disaster', nan, 'Boat', 'Boatomg'], dtype=object)"
      ]
     },
     "execution_count": 67,
     "metadata": {},
     "output_type": "execute_result"
    }
   ],
   "source": [
    "cshark_data['type'].unique()\n"
   ]
  },
  {
   "cell_type": "code",
   "execution_count": 66,
   "id": "dc537d2a",
   "metadata": {
    "ExecuteTime": {
     "end_time": "2021-11-02T22:30:28.748231Z",
     "start_time": "2021-11-02T22:30:28.732272Z"
    }
   },
   "outputs": [
    {
     "data": {
      "text/plain": [
       "Unprovoked      4595\n",
       "Provoked         574\n",
       "Invalid          547\n",
       "Sea Disaster     239\n",
       "Boating          203\n",
       "Boat             137\n",
       "Questionable       2\n",
       "Boatomg            1\n",
       "Name: type, dtype: int64"
      ]
     },
     "execution_count": 66,
     "metadata": {},
     "output_type": "execute_result"
    }
   ],
   "source": [
    "cshark_data['type'].value_counts()"
   ]
  },
  {
   "cell_type": "code",
   "execution_count": 19,
   "id": "035403a1",
   "metadata": {
    "ExecuteTime": {
     "end_time": "2021-11-02T20:54:27.325623Z",
     "start_time": "2021-11-02T20:54:27.311660Z"
    },
    "scrolled": true
   },
   "outputs": [
    {
     "data": {
      "text/plain": [
       "array(['USA', 'AUSTRALIA', 'MEXICO', 'BRAZIL', 'ENGLAND', 'SOUTH AFRICA',\n",
       "       'THAILAND', 'COSTA RICA', 'MALDIVES', 'BAHAMAS', 'NEW CALEDONIA',\n",
       "       'ECUADOR', 'MALAYSIA', 'LIBYA', nan, 'CUBA', 'MAURITIUS',\n",
       "       'NEW ZEALAND', 'SPAIN', 'SAMOA', 'SOLOMON ISLANDS', 'JAPAN',\n",
       "       'EGYPT', 'ST HELENA, British overseas territory', 'COMOROS',\n",
       "       'REUNION', 'FRENCH POLYNESIA', 'UNITED KINGDOM',\n",
       "       'UNITED ARAB EMIRATES', 'PHILIPPINES', 'INDONESIA', 'CHINA',\n",
       "       'COLUMBIA', 'CAPE VERDE', 'Fiji', 'DOMINICAN REPUBLIC',\n",
       "       'CAYMAN ISLANDS', 'ARUBA', 'MOZAMBIQUE', 'FIJI', 'PUERTO RICO',\n",
       "       'ITALY', 'ATLANTIC OCEAN', 'GREECE', 'ST. MARTIN', 'FRANCE',\n",
       "       'PAPUA NEW GUINEA', 'TRINIDAD & TOBAGO', 'KIRIBATI', 'ISRAEL',\n",
       "       'DIEGO GARCIA', 'TAIWAN', 'JAMAICA', 'PALESTINIAN TERRITORIES',\n",
       "       'GUAM', 'SEYCHELLES', 'BELIZE', 'NIGERIA', 'TONGA', 'SCOTLAND',\n",
       "       'CANADA', 'CROATIA', 'SAUDI ARABIA', 'CHILE', 'ANTIGUA', 'KENYA',\n",
       "       'RUSSIA', 'TURKS & CAICOS', 'UNITED ARAB EMIRATES (UAE)', 'AZORES',\n",
       "       'SOUTH KOREA', 'MALTA', 'VIETNAM', 'MADAGASCAR', 'PANAMA',\n",
       "       'SOMALIA', 'NEVIS', 'BRITISH VIRGIN ISLANDS', 'NORWAY', 'SENEGAL',\n",
       "       'YEMEN', 'GULF OF ADEN', 'Sierra Leone', 'ST. MAARTIN',\n",
       "       'GRAND CAYMAN', 'Seychelles', 'LIBERIA', 'VANUATU', 'MEXICO ',\n",
       "       'HONDURAS', 'VENEZUELA', 'SRI LANKA', ' TONGA', 'URUGUAY', 'INDIA',\n",
       "       'MICRONESIA', 'CARIBBEAN SEA', 'OKINAWA', 'TANZANIA',\n",
       "       'MARSHALL ISLANDS', 'EGYPT / ISRAEL', 'NORTHERN ARABIAN SEA',\n",
       "       'HONG KONG', 'EL SALVADOR', 'ANGOLA', 'BERMUDA', 'MONTENEGRO',\n",
       "       'IRAN', 'TUNISIA', 'NAMIBIA', 'NORTH ATLANTIC OCEAN', 'PORTUGAL',\n",
       "       'SOUTH CHINA SEA', 'BANGLADESH', 'PALAU', 'WESTERN SAMOA',\n",
       "       'PACIFIC OCEAN ', 'BRITISH ISLES', 'GRENADA', 'IRAQ', 'TURKEY',\n",
       "       'SINGAPORE', 'NEW BRITAIN', 'SUDAN', 'JOHNSTON ISLAND',\n",
       "       'SOUTH PACIFIC OCEAN', 'NEW GUINEA', 'RED SEA',\n",
       "       'NORTH PACIFIC OCEAN', 'FEDERATED STATES OF MICRONESIA',\n",
       "       'MID ATLANTIC OCEAN', 'ADMIRALTY ISLANDS', 'BRITISH WEST INDIES',\n",
       "       'SOUTH ATLANTIC OCEAN', 'PERSIAN GULF', 'RED SEA / INDIAN OCEAN',\n",
       "       'PACIFIC OCEAN', 'NORTH SEA', 'NICARAGUA ', 'MALDIVE ISLANDS',\n",
       "       'AMERICAN SAMOA', 'ANDAMAN / NICOBAR ISLANDAS', 'GABON', 'MAYOTTE',\n",
       "       'NORTH ATLANTIC OCEAN ', 'THE BALKANS', 'SUDAN?', 'ARGENTINA',\n",
       "       'MARTINIQUE', 'INDIAN OCEAN', 'GUATEMALA', 'NETHERLANDS ANTILLES',\n",
       "       'NORTHERN MARIANA ISLANDS', 'IRAN / IRAQ', 'JAVA', 'SIERRA LEONE',\n",
       "       ' PHILIPPINES', 'NICARAGUA', 'CENTRAL PACIFIC',\n",
       "       'SOLOMON ISLANDS / VANUATU', 'SOUTHWEST PACIFIC OCEAN',\n",
       "       'BAY OF BENGAL', 'MID-PACIFC OCEAN', 'SLOVENIA', 'CURACAO',\n",
       "       'ICELAND', 'ITALY / CROATIA', 'BARBADOS', 'MONACO', 'GUYANA',\n",
       "       'HAITI', 'SAN DOMINGO', 'IRELAND', 'KUWAIT', 'YEMEN ',\n",
       "       'REUNION ISLAND', 'FALKLAND ISLANDS', 'CRETE', 'CYPRUS', 'EGYPT ',\n",
       "       'WEST INDIES', 'BURMA', 'LEBANON', 'PARAGUAY',\n",
       "       'BRITISH NEW GUINEA', 'CEYLON', 'OCEAN', 'GEORGIA', 'SYRIA',\n",
       "       'TUVALU', 'INDIAN OCEAN?', 'GUINEA', 'ANDAMAN ISLANDS',\n",
       "       'EQUATORIAL GUINEA / CAMEROON', 'COOK ISLANDS', 'TOBAGO', 'PERU',\n",
       "       'AFRICA', 'ALGERIA', 'Coast of AFRICA', 'TASMAN SEA', 'GHANA',\n",
       "       'GREENLAND', 'MEDITERRANEAN SEA', 'SWEDEN', 'ROATAN',\n",
       "       'Between PORTUGAL & INDIA', 'DJIBOUTI', 'BAHREIN', 'KOREA',\n",
       "       'RED SEA?', 'ASIA?', 'CEYLON (SRI LANKA)'], dtype=object)"
      ]
     },
     "execution_count": 19,
     "metadata": {},
     "output_type": "execute_result"
    }
   ],
   "source": [
    "cshark_data['Country'].unique()"
   ]
  },
  {
   "cell_type": "code",
   "execution_count": 56,
   "id": "42f16862",
   "metadata": {
    "ExecuteTime": {
     "end_time": "2021-11-02T22:23:57.304217Z",
     "start_time": "2021-11-02T22:23:57.288261Z"
    }
   },
   "outputs": [
    {
     "data": {
      "text/plain": [
       "USA                          2229\n",
       "AUSTRALIA                    1338\n",
       "SOUTH AFRICA                  579\n",
       "PAPUA NEW GUINEA              134\n",
       "NEW ZEALAND                   128\n",
       "                             ... \n",
       "RED SEA                         1\n",
       "GHANA                           1\n",
       "ANDAMAN ISLANDS                 1\n",
       "SOLOMON ISLANDS / VANUATU       1\n",
       "REUNION ISLAND                  1\n",
       "Name: country, Length: 212, dtype: int64"
      ]
     },
     "execution_count": 56,
     "metadata": {},
     "output_type": "execute_result"
    }
   ],
   "source": [
    "cshark_data['country'].value_counts()"
   ]
  },
  {
   "cell_type": "code",
   "execution_count": 57,
   "id": "53a84c48",
   "metadata": {
    "ExecuteTime": {
     "end_time": "2021-11-02T22:24:24.625685Z",
     "start_time": "2021-11-02T22:24:24.612752Z"
    }
   },
   "outputs": [
    {
     "data": {
      "text/plain": [
       "array(['57', '11', '48', nan, '18', '52', '15', '12', '32', '10', '21',\n",
       "       '34', '30', '60', '33', '29', '54', '41', '37', '56', '19', '25',\n",
       "       '69', '38', '55', '35', '46', '45', '14', '40s', '28', '20', '24',\n",
       "       '26', '49', '22', '7', '31', '17', '40', '13', '42', '3', '8',\n",
       "       '50', '16', '82', '73', '20s', '68', '51', '39', '58', 'Teen',\n",
       "       '47', '61', '65', '36', '66', '43', '60s', '9', '72', '59', '6',\n",
       "       '27', '64', '23', '71', '44', '62', '63', '70', '18 months', '53',\n",
       "       '30s', '50s', 'teen', '77', '74', '28 & 26', '5', '86', '18 or 20',\n",
       "       '12 or 13', '46 & 34', '28, 23 & 30', 'Teens', '36 & 26',\n",
       "       '8 or 10', '84', '� ', ' ', '30 or 36', '6�', '21 & ?', '75',\n",
       "       '33 or 37', 'mid-30s', '23 & 20', ' 30', '7      &    31', ' 28',\n",
       "       '20?', \"60's\", '32 & 30', '16 to 18', '87', '67', 'Elderly',\n",
       "       'mid-20s', 'Ca. 33', '74 ', '45 ', '21 or 26', '20 ', '>50',\n",
       "       '18 to 22', 'adult', '9 & 12', '? & 19', '9 months', '25 to 35',\n",
       "       '23 & 26', '1', '(adult)', '33 & 37', '25 or 28',\n",
       "       '37, 67, 35, 27,  ? & 27', '21, 34,24 & 35', '30 & 32', '50 & 30',\n",
       "       '17 & 35', 'X', '\"middle-age\"', '13 or 18', '34 & 19', '33 & 26',\n",
       "       '2 to 3 months', 'MAKE LINE GREEN', ' 43', '81', '\"young\"',\n",
       "       '7 or 8', '78', '17 & 16', 'F', 'Both 11', '9 or 10', 'young',\n",
       "       '36 & 23', '  ', 'A.M.', '?    &   14', '10 or 12', '31 or 33',\n",
       "       '2�', '13 or 14'], dtype=object)"
      ]
     },
     "execution_count": 57,
     "metadata": {},
     "output_type": "execute_result"
    }
   ],
   "source": [
    "cshark_data['age'].unique()"
   ]
  },
  {
   "cell_type": "code",
   "execution_count": 58,
   "id": "58dceafe",
   "metadata": {
    "ExecuteTime": {
     "end_time": "2021-11-02T22:24:32.601364Z",
     "start_time": "2021-11-02T22:24:32.582413Z"
    }
   },
   "outputs": [
    {
     "data": {
      "text/plain": [
       "17         154\n",
       "18         150\n",
       "19         142\n",
       "20         141\n",
       "15         139\n",
       "          ... \n",
       "�            1\n",
       "23 & 26      1\n",
       "Elderly      1\n",
       "adult        1\n",
       "67           1\n",
       "Name: age, Length: 157, dtype: int64"
      ]
     },
     "execution_count": 58,
     "metadata": {},
     "output_type": "execute_result"
    }
   ],
   "source": [
    "cshark_data['age'].value_counts()"
   ]
  },
  {
   "cell_type": "code",
   "execution_count": 59,
   "id": "1e759ddb",
   "metadata": {
    "ExecuteTime": {
     "end_time": "2021-11-02T22:24:55.501202Z",
     "start_time": "2021-11-02T22:24:55.447347Z"
    },
    "scrolled": true
   },
   "outputs": [
    {
     "data": {
      "text/plain": [
       "array(['Paddling', 'Standing', 'Surfing', ...,\n",
       "       'Crew swimming alongside their anchored ship',\n",
       "       '4 men were bathing', 'Wreck of  large double sailing canoe'],\n",
       "      dtype=object)"
      ]
     },
     "execution_count": 59,
     "metadata": {},
     "output_type": "execute_result"
    }
   ],
   "source": [
    "cshark_data['activity'].unique()"
   ]
  },
  {
   "cell_type": "code",
   "execution_count": 60,
   "id": "58b5f615",
   "metadata": {
    "ExecuteTime": {
     "end_time": "2021-11-02T22:25:09.984850Z",
     "start_time": "2021-11-02T22:25:09.967897Z"
    }
   },
   "outputs": [
    {
     "data": {
      "text/plain": [
       "Surfing                                             971\n",
       "Swimming                                            869\n",
       "Fishing                                             431\n",
       "Spearfishing                                        333\n",
       "Bathing                                             162\n",
       "                                                   ... \n",
       "Swimming between  anchored  pearling luggers          1\n",
       "Swimming to shore from capsized sailboat              1\n",
       "U-177 torpedoed & sank the troopship Nova Scotia      1\n",
       "Swimming 10 m from shore                              1\n",
       "Swimming after his canoe capsized                     1\n",
       "Name: activity, Length: 1532, dtype: int64"
      ]
     },
     "execution_count": 60,
     "metadata": {},
     "output_type": "execute_result"
    }
   ],
   "source": [
    "cshark_data['activity'].value_counts()"
   ]
  },
  {
   "cell_type": "code",
   "execution_count": 61,
   "id": "8ebcb4de",
   "metadata": {
    "ExecuteTime": {
     "end_time": "2021-11-02T22:25:38.974315Z",
     "start_time": "2021-11-02T22:25:38.962348Z"
    }
   },
   "outputs": [
    {
     "data": {
      "text/plain": [
       "array(['White shark', nan, '2 m shark', ..., \"12' tiger shark\",\n",
       "       'Blue pointers',\n",
       "       'Said to involve a grey nurse shark that leapt out of the water and  seized the boy but species identification is questionable'],\n",
       "      dtype=object)"
      ]
     },
     "execution_count": 61,
     "metadata": {},
     "output_type": "execute_result"
    }
   ],
   "source": [
    "cshark_data['species'].unique()"
   ]
  },
  {
   "cell_type": "code",
   "execution_count": 62,
   "id": "129f9589",
   "metadata": {
    "ExecuteTime": {
     "end_time": "2021-11-02T22:25:47.003811Z",
     "start_time": "2021-11-02T22:25:46.985900Z"
    }
   },
   "outputs": [
    {
     "data": {
      "text/plain": [
       "White shark                                                       163\n",
       "Shark involvement prior to death was not confirmed                105\n",
       "Invalid                                                           102\n",
       "Shark involvement not confirmed                                    88\n",
       "Tiger shark                                                        73\n",
       "                                                                 ... \n",
       "According to Carlsmith, the shark's mouth was 3' wide               1\n",
       "Bull shark, 4 m [13']                                               1\n",
       "His hand was found in a 2.4 m [8'] tiger shark caught 1/5/1949      1\n",
       "Thought to involve bull sharks                                      1\n",
       "3m shark                                                            1\n",
       "Name: species, Length: 1549, dtype: int64"
      ]
     },
     "execution_count": 62,
     "metadata": {},
     "output_type": "execute_result"
    }
   ],
   "source": [
    "cshark_data['species'].value_counts()"
   ]
  },
  {
   "cell_type": "code",
   "execution_count": 63,
   "id": "ae2037fa",
   "metadata": {
    "ExecuteTime": {
     "end_time": "2021-11-02T22:28:29.536651Z",
     "start_time": "2021-11-02T22:28:29.500749Z"
    }
   },
   "outputs": [
    {
     "data": {
      "text/plain": [
       "array([2018.0, 2017.0, nan, 2016.0, 2015.0, 2014.0, 2013.0, 2012.0,\n",
       "       2011.0, 2010.0, 2009.0, 2008.0, 2007.0, 2006.0, 2005.0, 2004.0,\n",
       "       2003.0, 2002.0, 2001.0, 2000.0, 1999.0, 1998.0, 1997.0, 1996.0,\n",
       "       1995.0, 1984.0, 1994.0, 1993.0, 1992.0, 1991.0, 1990.0, 1989.0,\n",
       "       1969.0, 1988.0, 1987.0, 1986.0, 1985.0, 1983.0, 1982.0, 1981.0,\n",
       "       1980.0, 1979.0, 1978.0, 1977.0, 1976.0, 1975.0, 1974.0, 1973.0,\n",
       "       1972.0, 1971.0, 1970.0, 1968.0, 1967.0, 1966.0, 1965.0, 1964.0,\n",
       "       1963.0, 1962.0, 1961.0, 1960.0, 1959.0, 1958.0, 1957.0, 1956.0,\n",
       "       1955.0, 1954.0, 1953.0, 1952.0, 1951.0, 1950.0, 1949.0, 1948.0,\n",
       "       1848.0, 1947.0, 1946.0, 1945.0, 1944.0, 1943.0, 1942.0, 1941.0,\n",
       "       1940.0, 1939.0, 1938.0, 1937.0, 1936.0, 1935.0, 1934.0, 1933.0,\n",
       "       1932.0, 1931.0, 1930.0, 1929.0, 1928.0, 1927.0, 1926.0, 1925.0,\n",
       "       1924.0, 1923.0, 1922.0, 1921.0, 1920.0, 1919.0, 1918.0, 1917.0,\n",
       "       1916.0, 1915.0, 1914.0, 1913.0, 1912.0, 1911.0, 1910.0, 1909.0,\n",
       "       1908.0, 1907.0, 1906.0, 1905.0, 1904.0, 1903.0, 1902.0, 1901.0,\n",
       "       1900.0, 1899.0, 1898.0, 1897.0, 1896.0, 1895.0, 1894.0, 1893.0,\n",
       "       1892.0, 1891.0, 1890.0, 1889.0, 1888.0, 1887.0, 1886.0, 1885.0,\n",
       "       1884.0, 1883.0, 1882.0, 1881.0, 1880.0, 1879.0, 1878.0, 1877.0,\n",
       "       1876.0, 1875.0, 1874.0, 1873.0, 1872.0, 1871.0, 1870.0, 1869.0,\n",
       "       1868.0, 1867.0, 1866.0, 1865.0, 1864.0, 1863.0, 1862.0, 1861.0,\n",
       "       1860.0, 1859.0, 1858.0, 1857.0, 1856.0, 1855.0, 1853.0, 1852.0,\n",
       "       1851.0, 1850.0, 1849.0, 1847.0, 1846.0, 1845.0, 1844.0, 1842.0,\n",
       "       1841.0, 1840.0, 1839.0, 1837.0, 1836.0, 1835.0, 1834.0, 1832.0,\n",
       "       1831.0, 1830.0, 1829.0, 1828.0, 1827.0, 1826.0, 1825.0, 1823.0,\n",
       "       1822.0, 1819.0, 1818.0, 1817.0, 1816.0, 1815.0, 1812.0, 1811.0,\n",
       "       1810.0, 1808.0, 1807.0, 1805.0, 1804.0, 1803.0, 1802.0, 1801.0,\n",
       "       1800.0, 1797.0, 1792.0, 1791.0, 1788.0, 1787.0, 1786.0, 1785.0,\n",
       "       1784.0, 1783.0, 1780.0, 1779.0, 1776.0, 1771.0, 1767.0, 1764.0,\n",
       "       1758.0, 1753.0, 1751.0, 1749.0, 1755.0, 1748.0, 1742.0, 1738.0,\n",
       "       1733.0, 1723.0, 1721.0, 1703.0, 1700.0, 1642.0, 1638.0, 1637.0,\n",
       "       1617.0, 1595.0, 1580.0, 1555.0, 1554.0, 1543.0, 500.0, 77.0, 5.0,\n",
       "       0.0], dtype=object)"
      ]
     },
     "execution_count": 63,
     "metadata": {},
     "output_type": "execute_result"
    }
   ],
   "source": [
    "cshark_data['year'].unique()"
   ]
  },
  {
   "cell_type": "code",
   "execution_count": 65,
   "id": "ef13009d",
   "metadata": {
    "ExecuteTime": {
     "end_time": "2021-11-02T22:28:53.893089Z",
     "start_time": "2021-11-02T22:28:53.871146Z"
    }
   },
   "outputs": [
    {
     "data": {
      "text/plain": [
       "2015.0    143\n",
       "2017.0    136\n",
       "2016.0    130\n",
       "2011.0    128\n",
       "2014.0    127\n",
       "         ... \n",
       "1807.0      1\n",
       "1805.0      1\n",
       "1804.0      1\n",
       "1802.0      1\n",
       "1791.0      1\n",
       "Name: year, Length: 249, dtype: int64"
      ]
     },
     "execution_count": 65,
     "metadata": {},
     "output_type": "execute_result"
    }
   ],
   "source": [
    "cshark_data['year'].value_counts()"
   ]
  },
  {
   "cell_type": "code",
   "execution_count": 93,
   "id": "b78973b5",
   "metadata": {
    "ExecuteTime": {
     "end_time": "2021-11-01T11:53:17.032468Z",
     "start_time": "2021-11-01T11:53:17.024488Z"
    }
   },
   "outputs": [
    {
     "data": {
      "text/plain": [
       "<pandas.core.groupby.generic.DataFrameGroupBy object at 0x0000029D82D30340>"
      ]
     },
     "execution_count": 93,
     "metadata": {},
     "output_type": "execute_result"
    }
   ],
   "source": [
    "CS1 = cshark_data.groupby('Country')\n",
    "CS1\n"
   ]
  }
 ],
 "metadata": {
  "kernelspec": {
   "display_name": "Python 3",
   "language": "python",
   "name": "python3"
  },
  "language_info": {
   "codemirror_mode": {
    "name": "ipython",
    "version": 3
   },
   "file_extension": ".py",
   "mimetype": "text/x-python",
   "name": "python",
   "nbconvert_exporter": "python",
   "pygments_lexer": "ipython3",
   "version": "3.8.8"
  },
  "toc": {
   "base_numbering": 1,
   "nav_menu": {},
   "number_sections": true,
   "sideBar": true,
   "skip_h1_title": false,
   "title_cell": "Table of Contents",
   "title_sidebar": "Contents",
   "toc_cell": false,
   "toc_position": {},
   "toc_section_display": true,
   "toc_window_display": false
  },
  "varInspector": {
   "cols": {
    "lenName": 16,
    "lenType": 16,
    "lenVar": 40
   },
   "kernels_config": {
    "python": {
     "delete_cmd_postfix": "",
     "delete_cmd_prefix": "del ",
     "library": "var_list.py",
     "varRefreshCmd": "print(var_dic_list())"
    },
    "r": {
     "delete_cmd_postfix": ") ",
     "delete_cmd_prefix": "rm(",
     "library": "var_list.r",
     "varRefreshCmd": "cat(var_dic_list()) "
    }
   },
   "types_to_exclude": [
    "module",
    "function",
    "builtin_function_or_method",
    "instance",
    "_Feature"
   ],
   "window_display": false
  }
 },
 "nbformat": 4,
 "nbformat_minor": 5
}
